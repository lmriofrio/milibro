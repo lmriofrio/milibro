{
 "cells": [
  {
   "cell_type": "markdown",
   "metadata": {},
   "source": [
    "# ¿Qué es un cúbit?\n",
    "\n",
    "Los bits cuánticos, o cúbits, están representados por partículas cuánticas. La manipulación de cúbits por dispositivos de control es el núcleo del poder de procesamiento de una computadora cuántica. Los cúbits en las computadoras cuánticas son análogos a los bits en las computadoras clásicas. En esencia, el procesador de una máquina clásica hace todo su trabajo manipulando bits. De manera similar, el procesador cuántico hace todo su trabajo procesando cúbits.\n",
    "\n",
    "## ¿En qué se diferencian los cúbits de los bits clásicos?\n",
    "\n",
    "En la computación clásica, un bit es una señal electrónica que está encendida o apagada. El valor del bit clásico puede ser uno (encendido) o cero (apagado). Sin embargo, debido a que el cúbit se basa en las leyes de la mecánica cuántica, se puede colocar en una superposición de estados.\n",
    "\n",
    "![](https://upload.wikimedia.org/wikipedia/commons/thumb/f/f3/Blochsphere.svg/1200px-Blochsphere.svg.png)\n"
   ]
  },
  {
   "cell_type": "code",
   "execution_count": null,
   "metadata": {},
   "outputs": [],
   "source": [
    "import seaborn as sns\n",
    "import numpy as np\n",
    "\n",
    "# Configuración de seaborn para un estilo agradable\n",
    "sns.set(style=\"whitegrid\")\n",
    "\n",
    "# Datos de ejemplo\n",
    "x = np.linspace(0, 10, 100)\n",
    "y = np.sin(x)\n",
    "\n",
    "# Crear un gráfico interactivo\n",
    "sns.lineplot(x=x, y=y)\n",
    "plt.title('Gráfico Interactivo con Seaborn y Matplotlib')\n",
    "plt.xlabel('X')\n",
    "plt.ylabel('Y')\n",
    "\n",
    "# Mostrar el gráfico interactivo\n",
    "plt.show()\n"
   ]
  },
  {
   "cell_type": "code",
   "execution_count": null,
   "metadata": {},
   "outputs": [],
   "source": []
  }
 ],
 "metadata": {
  "kernelspec": {
   "display_name": "Python 3 (ipykernel)",
   "language": "python",
   "name": "python3"
  },
  "language_info": {
   "codemirror_mode": {
    "name": "ipython",
    "version": 3
   },
   "file_extension": ".py",
   "mimetype": "text/x-python",
   "name": "python",
   "nbconvert_exporter": "python",
   "pygments_lexer": "ipython3",
   "version": "3.12.0"
  },
  "widgets": {
   "application/vnd.jupyter.widget-state+json": {
    "state": {},
    "version_major": 2,
    "version_minor": 0
   }
  }
 },
 "nbformat": 4,
 "nbformat_minor": 4
}
