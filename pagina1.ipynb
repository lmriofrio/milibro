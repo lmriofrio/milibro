{
 "cells": [
  {
   "cell_type": "markdown",
   "id": "76d2752f-508e-4d4d-9e6e-eda72317a05b",
   "metadata": {},
   "source": [
    "Mi primer pagina"
   ]
  },
  {
   "cell_type": "raw",
   "id": "7cea8e64-a03c-4517-93c0-cb51b7c55940",
   "metadata": {},
   "source": []
  },
  {
   "cell_type": "code",
   "execution_count": null,
   "id": "91dd7a4b-4408-4044-bed7-b437a71ae2cf",
   "metadata": {},
   "outputs": [],
   "source": [
    "uuuuuuuuu"
   ]
  },
  {
   "cell_type": "code",
   "execution_count": null,
   "id": "54ca2a2b-fc1e-4218-ad8a-a89accfd4d22",
   "metadata": {},
   "outputs": [],
   "source": []
  }
 ],
 "metadata": {
  "kernelspec": {
   "display_name": "Python 3 (ipykernel)",
   "language": "python",
   "name": "python3"
  },
  "language_info": {
   "codemirror_mode": {
    "name": "ipython",
    "version": 3
   },
   "file_extension": ".py",
   "mimetype": "text/x-python",
   "name": "python",
   "nbconvert_exporter": "python",
   "pygments_lexer": "ipython3",
   "version": "3.12.0"
  }
 },
 "nbformat": 4,
 "nbformat_minor": 5
}
