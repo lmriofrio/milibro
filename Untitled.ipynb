{
 "cells": [
  {
   "cell_type": "markdown",
   "id": "9f7e9d99-028c-4cc8-bca2-bdcaba043ac3",
   "metadata": {},
   "source": [
    "pagina1"
   ]
  },
  {
   "cell_type": "code",
   "execution_count": null,
   "id": "0ad1520c-8920-4308-a708-6f38a5561147",
   "metadata": {},
   "outputs": [],
   "source": []
  }
 ],
 "metadata": {
  "kernelspec": {
   "display_name": "Python 3 (ipykernel)",
   "language": "python",
   "name": "python3"
  },
  "language_info": {
   "codemirror_mode": {
    "name": "ipython",
    "version": 3
   },
   "file_extension": ".py",
   "mimetype": "text/x-python",
   "name": "python",
   "nbconvert_exporter": "python",
   "pygments_lexer": "ipython3",
   "version": "3.12.0"
  }
 },
 "nbformat": 4,
 "nbformat_minor": 5
}
